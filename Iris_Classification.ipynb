{
  "nbformat": 4,
  "nbformat_minor": 0,
  "metadata": {
    "colab": {
      "name": "Iris_Classification.ipynb",
      "provenance": []
    },
    "kernelspec": {
      "name": "python3",
      "display_name": "Python 3"
    },
    "language_info": {
      "name": "python"
    }
  },
  "cells": [
    {
      "cell_type": "code",
      "execution_count": 1,
      "metadata": {
        "colab": {
          "base_uri": "https://localhost:8080/"
        },
        "id": "8wbCsFORv2Y_",
        "outputId": "333e3ef9-acaa-422e-cb2c-07f14484dcbe"
      },
      "outputs": [
        {
          "output_type": "stream",
          "name": "stdout",
          "text": [
            "--2022-05-03 02:40:54--  https://gist.githubusercontent.com/curran/a08a1080b88344b0c8a7/raw/0e7a9b0a5d22642a06d3d5b9bcbad9890c8ee534/iris.csv\n",
            "Resolving gist.githubusercontent.com (gist.githubusercontent.com)... 185.199.110.133, 185.199.111.133, 185.199.109.133, ...\n",
            "Connecting to gist.githubusercontent.com (gist.githubusercontent.com)|185.199.110.133|:443... connected.\n",
            "HTTP request sent, awaiting response... 200 OK\n",
            "Length: 3858 (3.8K) [text/plain]\n",
            "Saving to: ‘iris.csv.1’\n",
            "\n",
            "iris.csv.1          100%[===================>]   3.77K  --.-KB/s    in 0s      \n",
            "\n",
            "2022-05-03 02:40:54 (47.9 MB/s) - ‘iris.csv.1’ saved [3858/3858]\n",
            "\n"
          ]
        }
      ],
      "source": [
        "!wget https://gist.githubusercontent.com/curran/a08a1080b88344b0c8a7/raw/0e7a9b0a5d22642a06d3d5b9bcbad9890c8ee534/iris.csv"
      ]
    },
    {
      "cell_type": "code",
      "source": [
        "import numpy as np\n",
        "import pandas as pd\n",
        "import torch\n",
        "import torch.nn as nn\n",
        "import torch.nn.functional as F\n",
        "import torch.optim as optim\n",
        "from torch.utils.data import Dataset, DataLoader\n",
        "from torch.autograd import Variable\n",
        "from sklearn.preprocessing import OneHotEncoder\n",
        "from sklearn.datasets import load_iris\n",
        "from sklearn.model_selection import train_test_split\n",
        "from sklearn import metrics"
      ],
      "metadata": {
        "id": "zIjjDj4vv-B6"
      },
      "execution_count": 2,
      "outputs": []
    },
    {
      "cell_type": "code",
      "source": [
        "iris = load_iris()\n",
        "X = iris.data\n",
        "y = iris.target"
      ],
      "metadata": {
        "id": "UGJL5RNEv-Er"
      },
      "execution_count": 3,
      "outputs": []
    },
    {
      "cell_type": "code",
      "source": [
        "X_train, X_test, y_train, y_test = train_test_split(X, y, test_size=0.2, shuffle=True)"
      ],
      "metadata": {
        "id": "V3gne3CQv-Hq"
      },
      "execution_count": 4,
      "outputs": []
    },
    {
      "cell_type": "code",
      "source": [
        "enc = OneHotEncoder()\n",
        "y_train = enc.fit_transform(y_train.reshape(-1, 1)).toarray()\n",
        "y_test = enc.fit_transform(y_test.reshape(-1, 1)).toarray()"
      ],
      "metadata": {
        "id": "OAGOVS7hv-Kb"
      },
      "execution_count": 5,
      "outputs": []
    },
    {
      "cell_type": "code",
      "source": [
        "X_train = torch.from_numpy(X_train).float()\n",
        "X_test = torch.from_numpy(X_test).float()\n",
        "y_train = torch.from_numpy(y_train).float()\n",
        "y_test = torch.from_numpy(y_test).float()"
      ],
      "metadata": {
        "id": "TtqqtG14v-NJ"
      },
      "execution_count": 6,
      "outputs": []
    },
    {
      "cell_type": "code",
      "source": [
        "class Model(nn.Module):\n",
        "    def __init__(self):\n",
        "        super(Model, self).__init__()\n",
        "        self.linear = nn.Linear(4, 3)\n",
        "        \n",
        "    def forward(self, x):\n",
        "        x = self.linear(x)\n",
        "        return F.softmax(x, dim=1)"
      ],
      "metadata": {
        "id": "wvDirdDrv-Qr"
      },
      "execution_count": 7,
      "outputs": []
    },
    {
      "cell_type": "code",
      "source": [
        "model = Model()"
      ],
      "metadata": {
        "id": "Dixayg1Av-Ti"
      },
      "execution_count": 8,
      "outputs": []
    },
    {
      "cell_type": "code",
      "source": [
        "criterion = nn.MSELoss()\n",
        "optimizer = optim.SGD(model.parameters(), lr=0.01)"
      ],
      "metadata": {
        "id": "1OXt5aiZwube"
      },
      "execution_count": 9,
      "outputs": []
    },
    {
      "cell_type": "code",
      "source": [
        "epochs = 100000\n",
        "for epoch in range(epochs):\n",
        "    epoch += 1\n",
        "    \n",
        "    # convert numpy array to torch Variable\n",
        "    inputs = Variable(X_train)\n",
        "    labels = Variable(y_train)\n",
        "    \n",
        "    # clear gradients w.r.t parameters\n",
        "    optimizer.zero_grad()\n",
        "    \n",
        "    # forward to get output\n",
        "    outputs = model(inputs)\n",
        "    \n",
        "    # calculate loss\n",
        "    loss = criterion(outputs, labels)\n",
        "    \n",
        "    # getting gradients w.r.t parameters\n",
        "    loss.backward()\n",
        "    \n",
        "    # updating parameters\n",
        "    optimizer.step()\n",
        "    \n",
        "    if epoch % 10000 == 0:\n",
        "        print('epoch {}, loss {}'.format(epoch, loss))"
      ],
      "metadata": {
        "colab": {
          "base_uri": "https://localhost:8080/"
        },
        "id": "-cq_gASTwuhu",
        "outputId": "0216c430-c7a0-4c95-c65a-4e84576480e2"
      },
      "execution_count": 10,
      "outputs": [
        {
          "output_type": "stream",
          "name": "stdout",
          "text": [
            "epoch 10000, loss 0.04997430369257927\n",
            "epoch 20000, loss 0.029452119022607803\n",
            "epoch 30000, loss 0.023273656144738197\n",
            "epoch 40000, loss 0.020219873636960983\n",
            "epoch 50000, loss 0.01835443079471588\n",
            "epoch 60000, loss 0.01707368716597557\n",
            "epoch 70000, loss 0.016127098351716995\n",
            "epoch 80000, loss 0.015391167253255844\n",
            "epoch 90000, loss 0.014797690324485302\n",
            "epoch 100000, loss 0.01430581696331501\n"
          ]
        }
      ]
    },
    {
      "cell_type": "code",
      "source": [
        "# test model\n",
        "with torch.no_grad():\n",
        "    inputs = Variable(X_test)\n",
        "    outputs = model(inputs)\n",
        "    _, predicted = torch.max(outputs.data, 1)"
      ],
      "metadata": {
        "id": "lJswX-5-v-V-"
      },
      "execution_count": 11,
      "outputs": []
    },
    {
      "cell_type": "code",
      "source": [
        "labels = Variable(y_test)\n",
        "_, y_test_ = torch.max(labels.data, 1)"
      ],
      "metadata": {
        "id": "WPGxlfbfybUT"
      },
      "execution_count": 12,
      "outputs": []
    },
    {
      "cell_type": "code",
      "source": [
        "print(\"Accuracy:\", metrics.accuracy_score(y_test_.numpy(), predicted.numpy()))"
      ],
      "metadata": {
        "colab": {
          "base_uri": "https://localhost:8080/"
        },
        "id": "8F0oMxFOv-ZM",
        "outputId": "2f4eb920-fa4a-4ec2-f054-27e611bced0b"
      },
      "execution_count": 13,
      "outputs": [
        {
          "output_type": "stream",
          "name": "stdout",
          "text": [
            "Accuracy: 0.9333333333333333\n"
          ]
        }
      ]
    },
    {
      "cell_type": "code",
      "source": [
        ""
      ],
      "metadata": {
        "id": "5nyFsoAwv-h1"
      },
      "execution_count": 13,
      "outputs": []
    },
    {
      "cell_type": "code",
      "source": [
        ""
      ],
      "metadata": {
        "id": "sQUPai1pv-k2"
      },
      "execution_count": 13,
      "outputs": []
    },
    {
      "cell_type": "code",
      "source": [
        ""
      ],
      "metadata": {
        "id": "F93OYAtAv-n8"
      },
      "execution_count": 13,
      "outputs": []
    }
  ]
}